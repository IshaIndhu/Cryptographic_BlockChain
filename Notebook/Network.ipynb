{
 "cells": [
  {
   "cell_type": "code",
   "execution_count": 1,
   "metadata": {},
   "outputs": [],
   "source": [
    "import os\n",
    "os.chdir('..')\n",
    "\n",
    "from MinimalChain import MinimalChain\n",
    "import hashlib\n",
    "import datetime\n",
    "import copy"
   ]
  },
  {
   "cell_type": "code",
   "execution_count": 2,
   "metadata": {},
   "outputs": [],
   "source": [
    "class BlockNetwork():\n",
    "    \n",
    "    def __init__(self): # initialize when creating a chain\n",
    "        self.peers = []\n",
    "        \n",
    "    def add_peers(self,chain):\n",
    "        self.peers.append(chain)\n",
    "    \n",
    "    def verify(self):\n",
    "        flag = True\n",
    "        l = []\n",
    "        for i in self.peers:\n",
    "            l.append(i.get_chain_size())  \n",
    "        c = max(set(l), key=l.count)\n",
    "        del l\n",
    "        for i in range(0,len(self.peers)):\n",
    "            if self.peers[i].get_chain_size() != c:\n",
    "                print(f'Peer {i} invalid network')\n",
    "                return 0\n",
    "            \n",
    "        for i in range(c):\n",
    "            hashs = []\n",
    "            for j in range(len(self.peers)):\n",
    "                hashs.append(self.peers[j].blocks[i].hash)\n",
    "                if len(set(hashs))>=2:\n",
    "                    print(f'Peer {j} invalid network')\n",
    "                    return 0\n",
    "        print(\"Verification Successful\")\n",
    "        return flag     \n",
    "        \n",
    "        def peers(self):\n",
    "            return self.peers"
   ]
  },
  {
   "cell_type": "code",
   "execution_count": 3,
   "metadata": {},
   "outputs": [],
   "source": [
    "chain = MinimalChain()\n",
    "\n",
    "chain.add_block(\"rohi\")\n",
    "chain.add_block(\"rama\")\n",
    "chain.add_block(\"isha\")\n",
    "chain.add_block(\"jaishu\")\n",
    "chain.add_block(\"lee\")\n",
    "\n",
    "chain_mod = MinimalChain()\n",
    "\n",
    "chain_mod.add_block(\"rohi\")\n",
    "chain_mod.add_block(\"rama\")\n",
    "chain_mod.add_block(\"isha\")\n",
    "chain_mod.add_block(\"JaIshu\")\n",
    "chain_mod.add_block(\"lee\")"
   ]
  },
  {
   "cell_type": "code",
   "execution_count": 4,
   "metadata": {},
   "outputs": [
    {
     "name": "stdout",
     "output_type": "stream",
     "text": [
      "Index : \u001b[38;2;0;255;0m0 \u001b[38;2;255;255;255m\n",
      "Timestamp : \u001b[38;2;0;255;0m2021-12-08 10:38:08.493809 \u001b[38;2;255;255;255m\n",
      "Data : \u001b[38;2;0;255;0mGenesis \u001b[38;2;255;255;255m\n",
      "Previous_hash : \u001b[38;2;0;255;0marbitrary \u001b[38;2;255;255;255m\n",
      "Hash : \u001b[38;2;0;255;0m1a88be150a2b5b85b31819cd48d73b4553c6ef4bdda0fb5ce43bd86b31477a33 \u001b[38;2;255;255;255m\n",
      "\n",
      "\n",
      "Index : \u001b[38;2;0;255;0m1 \u001b[38;2;255;255;255m\n",
      "Timestamp : \u001b[38;2;0;255;0m2021-12-08 10:38:08.494041 \u001b[38;2;255;255;255m\n",
      "Data : \u001b[38;2;0;255;0mrohi \u001b[38;2;255;255;255m\n",
      "Previous_hash : \u001b[38;2;0;255;0m1a88be150a2b5b85b31819cd48d73b4553c6ef4bdda0fb5ce43bd86b31477a33 \u001b[38;2;255;255;255m\n",
      "Hash : \u001b[38;2;0;255;0m83ac1c385f0fa5c924dc781cd006bf66c5fbf4256263e3bad69b82469dcf867c \u001b[38;2;255;255;255m\n",
      "\n",
      "\n",
      "Index : \u001b[38;2;0;255;0m2 \u001b[38;2;255;255;255m\n",
      "Timestamp : \u001b[38;2;0;255;0m2021-12-08 10:38:08.494114 \u001b[38;2;255;255;255m\n",
      "Data : \u001b[38;2;0;255;0mrama \u001b[38;2;255;255;255m\n",
      "Previous_hash : \u001b[38;2;0;255;0m83ac1c385f0fa5c924dc781cd006bf66c5fbf4256263e3bad69b82469dcf867c \u001b[38;2;255;255;255m\n",
      "Hash : \u001b[38;2;0;255;0m712423ccd3606ea396b57a4ef3c7c7f3d54b3a30535a19aa30cae1b2412fc81c \u001b[38;2;255;255;255m\n",
      "\n",
      "\n",
      "Index : \u001b[38;2;0;255;0m3 \u001b[38;2;255;255;255m\n",
      "Timestamp : \u001b[38;2;0;255;0m2021-12-08 10:38:08.494169 \u001b[38;2;255;255;255m\n",
      "Data : \u001b[38;2;0;255;0misha \u001b[38;2;255;255;255m\n",
      "Previous_hash : \u001b[38;2;0;255;0m712423ccd3606ea396b57a4ef3c7c7f3d54b3a30535a19aa30cae1b2412fc81c \u001b[38;2;255;255;255m\n",
      "Hash : \u001b[38;2;0;255;0me5db956f3e92cf30e70237de63381a0c2b56f227f0207fde8bf0d6bb54eb228e \u001b[38;2;255;255;255m\n",
      "\n",
      "\n",
      "Index : \u001b[38;2;0;255;0m4 \u001b[38;2;255;255;255m\n",
      "Timestamp : \u001b[38;2;0;255;0m2021-12-08 10:38:08.494257 \u001b[38;2;255;255;255m\n",
      "Data : \u001b[38;2;0;255;0mjaishu \u001b[38;2;255;255;255m\n",
      "Previous_hash : \u001b[38;2;0;255;0me5db956f3e92cf30e70237de63381a0c2b56f227f0207fde8bf0d6bb54eb228e \u001b[38;2;255;255;255m\n",
      "Hash : \u001b[38;2;0;255;0m1975b9140e2017646239482038f766da6201c3fb88a3d71b1133ac467915a9b2 \u001b[38;2;255;255;255m\n",
      "\n",
      "\n",
      "Index : \u001b[38;2;0;255;0m5 \u001b[38;2;255;255;255m\n",
      "Timestamp : \u001b[38;2;0;255;0m2021-12-08 10:38:08.494336 \u001b[38;2;255;255;255m\n",
      "Data : \u001b[38;2;0;255;0mlee \u001b[38;2;255;255;255m\n",
      "Previous_hash : \u001b[38;2;0;255;0m1975b9140e2017646239482038f766da6201c3fb88a3d71b1133ac467915a9b2 \u001b[38;2;255;255;255m\n",
      "Hash : \u001b[38;2;0;255;0m4f31686429366346e653aa7a94cb97e522ad9048d48bdce849487c7cfc4a7ec9 \u001b[38;2;255;255;255m\n",
      "\n",
      "\n"
     ]
    }
   ],
   "source": [
    "chain.disp_chain()"
   ]
  },
  {
   "cell_type": "code",
   "execution_count": 5,
   "metadata": {},
   "outputs": [],
   "source": [
    "Net = BlockNetwork()\n",
    "for _ in range(2):\n",
    "    Net.add_peers(chain.fork(head='whole'))\n",
    "\n",
    "Net.add_peers(chain_mod)\n",
    "\n",
    "for _ in range(3):\n",
    "    Net.add_peers(chain.fork(head='whole'))"
   ]
  },
  {
   "cell_type": "code",
   "execution_count": 6,
   "metadata": {},
   "outputs": [
    {
     "name": "stdout",
     "output_type": "stream",
     "text": [
      "Peer 2 invalid network\n"
     ]
    }
   ],
   "source": [
    "f = Net.verify()"
   ]
  },
  {
   "cell_type": "code",
   "execution_count": 7,
   "metadata": {},
   "outputs": [
    {
     "name": "stdout",
     "output_type": "stream",
     "text": [
      "Index : \u001b[38;2;0;255;0m0 \u001b[38;2;255;255;255m\n",
      "Timestamp : \u001b[38;2;0;255;0m2021-12-08 10:38:08.494436 \u001b[38;2;255;255;255m\n",
      "Data : \u001b[38;2;0;255;0mGenesis \u001b[38;2;255;255;255m\n",
      "Previous_hash : \u001b[38;2;0;255;0marbitrary \u001b[38;2;255;255;255m\n",
      "Hash : \u001b[38;2;0;255;0m53cabcce2eda885aa569b0f84a411631194dcf9f6dee5c4be51bb7d18a75c1ef \u001b[38;2;255;255;255m\n",
      "\n",
      "\n",
      "Index : \u001b[38;2;0;255;0m1 \u001b[38;2;255;255;255m\n",
      "Timestamp : \u001b[38;2;0;255;0m2021-12-08 10:38:08.494492 \u001b[38;2;255;255;255m\n",
      "Data : \u001b[38;2;0;255;0mrohi \u001b[38;2;255;255;255m\n",
      "Previous_hash : \u001b[38;2;0;255;0m53cabcce2eda885aa569b0f84a411631194dcf9f6dee5c4be51bb7d18a75c1ef \u001b[38;2;255;255;255m\n",
      "Hash : \u001b[38;2;0;255;0mae8c46e5ca05c0a328201f0e4e8392163e5f6ca8e43cc182f04d52236e08d953 \u001b[38;2;255;255;255m\n",
      "\n",
      "\n",
      "Index : \u001b[38;2;0;255;0m2 \u001b[38;2;255;255;255m\n",
      "Timestamp : \u001b[38;2;0;255;0m2021-12-08 10:38:08.494542 \u001b[38;2;255;255;255m\n",
      "Data : \u001b[38;2;0;255;0mrama \u001b[38;2;255;255;255m\n",
      "Previous_hash : \u001b[38;2;0;255;0mae8c46e5ca05c0a328201f0e4e8392163e5f6ca8e43cc182f04d52236e08d953 \u001b[38;2;255;255;255m\n",
      "Hash : \u001b[38;2;0;255;0m279d0e030d19f33199a2c668b5976349406cb7a818ca8a105d4c247252b09f5c \u001b[38;2;255;255;255m\n",
      "\n",
      "\n",
      "Index : \u001b[38;2;0;255;0m3 \u001b[38;2;255;255;255m\n",
      "Timestamp : \u001b[38;2;0;255;0m2021-12-08 10:38:08.494590 \u001b[38;2;255;255;255m\n",
      "Data : \u001b[38;2;0;255;0misha \u001b[38;2;255;255;255m\n",
      "Previous_hash : \u001b[38;2;0;255;0m279d0e030d19f33199a2c668b5976349406cb7a818ca8a105d4c247252b09f5c \u001b[38;2;255;255;255m\n",
      "Hash : \u001b[38;2;0;255;0me7aac0e231a2bc7b7bd3292d0c3eff39b8e6323c8cb2ef37b7c75fb168c98feb \u001b[38;2;255;255;255m\n",
      "\n",
      "\n",
      "Index : \u001b[38;2;0;255;0m4 \u001b[38;2;255;255;255m\n",
      "Timestamp : \u001b[38;2;0;255;0m2021-12-08 10:38:08.494635 \u001b[38;2;255;255;255m\n",
      "Data : \u001b[38;2;0;255;0mJaIshu \u001b[38;2;255;255;255m\n",
      "Previous_hash : \u001b[38;2;0;255;0me7aac0e231a2bc7b7bd3292d0c3eff39b8e6323c8cb2ef37b7c75fb168c98feb \u001b[38;2;255;255;255m\n",
      "Hash : \u001b[38;2;0;255;0md1b0f1c7f5b8977394e3af4f8beefedd62c05a64aa622ac25018717eb7983d00 \u001b[38;2;255;255;255m\n",
      "\n",
      "\n",
      "Index : \u001b[38;2;0;255;0m5 \u001b[38;2;255;255;255m\n",
      "Timestamp : \u001b[38;2;0;255;0m2021-12-08 10:38:08.494747 \u001b[38;2;255;255;255m\n",
      "Data : \u001b[38;2;0;255;0mlee \u001b[38;2;255;255;255m\n",
      "Previous_hash : \u001b[38;2;0;255;0md1b0f1c7f5b8977394e3af4f8beefedd62c05a64aa622ac25018717eb7983d00 \u001b[38;2;255;255;255m\n",
      "Hash : \u001b[38;2;0;255;0md8b49a7697982cc3d813fec9b10eec5d4581c7cee1ec11af0b979dde0e67cfa1 \u001b[38;2;255;255;255m\n",
      "\n",
      "\n"
     ]
    }
   ],
   "source": [
    "Net.peers[2].disp_chain()"
   ]
  }
 ],
 "metadata": {
  "kernelspec": {
   "display_name": "Python 3.9",
   "language": "python",
   "name": "python3.9"
  },
  "language_info": {
   "codemirror_mode": {
    "name": "ipython",
    "version": 3
   },
   "file_extension": ".py",
   "mimetype": "text/x-python",
   "name": "python",
   "nbconvert_exporter": "python",
   "pygments_lexer": "ipython3",
   "version": "3.9.2"
  }
 },
 "nbformat": 4,
 "nbformat_minor": 4
}
