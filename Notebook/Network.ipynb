{
 "cells": [
  {
   "cell_type": "code",
   "execution_count": 1,
   "metadata": {},
   "outputs": [],
   "source": [
    "import os\n",
    "os.chdir('..')\n",
    "\n",
    "from MinimalChain import MinimalChain\n",
    "import hashlib\n",
    "import datetime\n",
    "import copy"
   ]
  },
  {
   "cell_type": "code",
   "execution_count": 2,
   "metadata": {},
   "outputs": [],
   "source": [
    "class BlockNetwork():\n",
    "    \n",
    "    def __init__(self): # initialize when creating a chain\n",
    "        self.peers = []\n",
    "        \n",
    "    def add_peers(self,chain):\n",
    "        self.peers.append(chain)\n",
    "    \n",
    "    def verify(self):\n",
    "        flag = True\n",
    "        l = []\n",
    "        for i in self.peers:\n",
    "            l.append(i.get_chain_size())  \n",
    "        c = max(set(l), key=l.count)\n",
    "        del l\n",
    "        for i in range(0,len(self.peers)):\n",
    "            if self.peers[i].get_chain_size() != c:\n",
    "                print(f'Peer {i} invalid network')\n",
    "                return 0\n",
    "            \n",
    "        for i in range(c):\n",
    "            hashs = []\n",
    "            for j in range(len(self.peers)):\n",
    "                hashs.append(self.peers[j].blocks[i].hash)\n",
    "                if len(set(hashs))>=2:\n",
    "                    print(f'Peer {j} invalid network')\n",
    "                    return 0\n",
    "        print(\"Verification Successful\")\n",
    "        return flag     \n",
    "        \n",
    "        def peers(self):\n",
    "            return self.peers"
   ]
  },
  {
   "cell_type": "code",
   "execution_count": 3,
   "metadata": {},
   "outputs": [],
   "source": [
    "chain = MinimalChain()\n",
    "\n",
    "chain.add_block(\"Rohith\")\n",
    "chain.add_block(\"Rama\")\n",
    "chain.add_block(\"Isha\")\n",
    "chain.add_block(\"Jayashree\")\n",
    "chain.add_block(\"Leepaakshi\")\n",
    "\n",
    "chain_mod = MinimalChain()\n",
    "\n",
    "chain_mod.add_block(\"Rohith\")\n",
    "chain_mod.add_block(\"Rama\")\n",
    "chain_mod.add_block(\"Isha\")\n",
    "chain_mod.add_block(\"JaYaShReE O\")\n",
    "chain_mod.add_block(\"Leepaakshi\")"
   ]
  },
  {
   "cell_type": "code",
   "execution_count": 4,
   "metadata": {},
   "outputs": [
    {
     "name": "stdout",
     "output_type": "stream",
     "text": [
      "Index : \u001b[38;2;0;255;0m0 \u001b[38;2;255;255;255m\n",
      "Timestamp : \u001b[38;2;0;255;0m2021-12-10 14:59:17.114458 \u001b[38;2;255;255;255m\n",
      "Data : \u001b[38;2;0;255;0mGenesis \u001b[38;2;255;255;255m\n",
      "Previous_hash : \u001b[38;2;0;255;0marbitrary \u001b[38;2;255;255;255m\n",
      "Hash : \u001b[38;2;0;255;0m757f67c3e21547e313c3ef941db803dbbc9aadf073530aa396b9e7027bbdd962 \u001b[38;2;255;255;255m\n",
      "\n",
      "\n",
      "Index : \u001b[38;2;0;255;0m1 \u001b[38;2;255;255;255m\n",
      "Timestamp : \u001b[38;2;0;255;0m2021-12-10 14:59:17.114525 \u001b[38;2;255;255;255m\n",
      "Data : \u001b[38;2;0;255;0mRohith \u001b[38;2;255;255;255m\n",
      "Previous_hash : \u001b[38;2;0;255;0m757f67c3e21547e313c3ef941db803dbbc9aadf073530aa396b9e7027bbdd962 \u001b[38;2;255;255;255m\n",
      "Hash : \u001b[38;2;0;255;0m3de3cdf79810e975612034eb441ee6d7857e48f692cf212df6bbed475c6b1cd6 \u001b[38;2;255;255;255m\n",
      "\n",
      "\n",
      "Index : \u001b[38;2;0;255;0m2 \u001b[38;2;255;255;255m\n",
      "Timestamp : \u001b[38;2;0;255;0m2021-12-10 14:59:17.114569 \u001b[38;2;255;255;255m\n",
      "Data : \u001b[38;2;0;255;0mRama \u001b[38;2;255;255;255m\n",
      "Previous_hash : \u001b[38;2;0;255;0m3de3cdf79810e975612034eb441ee6d7857e48f692cf212df6bbed475c6b1cd6 \u001b[38;2;255;255;255m\n",
      "Hash : \u001b[38;2;0;255;0m3bdf58b016d556f76d4209d5c0093f2da22ff74199f4fed675bce5762b3ff97a \u001b[38;2;255;255;255m\n",
      "\n",
      "\n",
      "Index : \u001b[38;2;0;255;0m3 \u001b[38;2;255;255;255m\n",
      "Timestamp : \u001b[38;2;0;255;0m2021-12-10 14:59:17.114608 \u001b[38;2;255;255;255m\n",
      "Data : \u001b[38;2;0;255;0mIsha \u001b[38;2;255;255;255m\n",
      "Previous_hash : \u001b[38;2;0;255;0m3bdf58b016d556f76d4209d5c0093f2da22ff74199f4fed675bce5762b3ff97a \u001b[38;2;255;255;255m\n",
      "Hash : \u001b[38;2;0;255;0m07c406b83c2df0059a6e3697e61b326e79004191f19da6e9e3a95b8fc557a610 \u001b[38;2;255;255;255m\n",
      "\n",
      "\n",
      "Index : \u001b[38;2;0;255;0m4 \u001b[38;2;255;255;255m\n",
      "Timestamp : \u001b[38;2;0;255;0m2021-12-10 14:59:17.114646 \u001b[38;2;255;255;255m\n",
      "Data : \u001b[38;2;0;255;0mJayashree \u001b[38;2;255;255;255m\n",
      "Previous_hash : \u001b[38;2;0;255;0m07c406b83c2df0059a6e3697e61b326e79004191f19da6e9e3a95b8fc557a610 \u001b[38;2;255;255;255m\n",
      "Hash : \u001b[38;2;0;255;0me90477a9be7df953ce66fbad1eb4fa21661d87c7fc67417eb94eca3173fe41d5 \u001b[38;2;255;255;255m\n",
      "\n",
      "\n",
      "Index : \u001b[38;2;0;255;0m5 \u001b[38;2;255;255;255m\n",
      "Timestamp : \u001b[38;2;0;255;0m2021-12-10 14:59:17.114683 \u001b[38;2;255;255;255m\n",
      "Data : \u001b[38;2;0;255;0mLeepaakshi \u001b[38;2;255;255;255m\n",
      "Previous_hash : \u001b[38;2;0;255;0me90477a9be7df953ce66fbad1eb4fa21661d87c7fc67417eb94eca3173fe41d5 \u001b[38;2;255;255;255m\n",
      "Hash : \u001b[38;2;0;255;0me39f13e95c41af4e056fea25df0fb4bb8af224c7d2433a40e5ebc7be692131f5 \u001b[38;2;255;255;255m\n",
      "\n",
      "\n"
     ]
    }
   ],
   "source": [
    "chain.disp_chain()"
   ]
  },
  {
   "cell_type": "code",
   "execution_count": 7,
   "metadata": {},
   "outputs": [],
   "source": [
    "Net = BlockNetwork()\n",
    "for _ in range(2):\n",
    "    Net.add_peers(chain.fork(head='whole'))\n",
    "\n",
    "#Net.add_peers(chain_mod)\n",
    "\n",
    "for _ in range(3):\n",
    "    Net.add_peers(chain.fork(head='whole'))"
   ]
  },
  {
   "cell_type": "code",
   "execution_count": 8,
   "metadata": {},
   "outputs": [
    {
     "name": "stdout",
     "output_type": "stream",
     "text": [
      "Verification Successful\n"
     ]
    }
   ],
   "source": [
    "f = Net.verify()"
   ]
  },
  {
   "cell_type": "code",
   "execution_count": 11,
   "metadata": {},
   "outputs": [
    {
     "name": "stdout",
     "output_type": "stream",
     "text": [
      "Index : \u001b[38;2;0;255;0m0 \u001b[38;2;255;255;255m\n",
      "Timestamp : \u001b[38;2;0;255;0m2021-12-09 15:59:32.557003 \u001b[38;2;255;255;255m\n",
      "Data : \u001b[38;2;0;255;0mGenesis \u001b[38;2;255;255;255m\n",
      "Previous_hash : \u001b[38;2;0;255;0marbitrary \u001b[38;2;255;255;255m\n",
      "Hash : \u001b[38;2;0;255;0m76105ddb05744417fef02dd599be494fb3974816d1c00c3a7efe33bbb96d9942 \u001b[38;2;255;255;255m\n",
      "\n",
      "\n",
      "Index : \u001b[38;2;0;255;0m1 \u001b[38;2;255;255;255m\n",
      "Timestamp : \u001b[38;2;0;255;0m2021-12-09 15:59:32.557044 \u001b[38;2;255;255;255m\n",
      "Data : \u001b[38;2;0;255;0mrohi \u001b[38;2;255;255;255m\n",
      "Previous_hash : \u001b[38;2;0;255;0m76105ddb05744417fef02dd599be494fb3974816d1c00c3a7efe33bbb96d9942 \u001b[38;2;255;255;255m\n",
      "Hash : \u001b[38;2;0;255;0m2116c1ca2299106d1a43a3ede2276b441f93261af0502a3f3d2341ef8b9a57af \u001b[38;2;255;255;255m\n",
      "\n",
      "\n",
      "Index : \u001b[38;2;0;255;0m2 \u001b[38;2;255;255;255m\n",
      "Timestamp : \u001b[38;2;0;255;0m2021-12-09 15:59:32.557085 \u001b[38;2;255;255;255m\n",
      "Data : \u001b[38;2;0;255;0mrama \u001b[38;2;255;255;255m\n",
      "Previous_hash : \u001b[38;2;0;255;0m2116c1ca2299106d1a43a3ede2276b441f93261af0502a3f3d2341ef8b9a57af \u001b[38;2;255;255;255m\n",
      "Hash : \u001b[38;2;0;255;0m44854b5a1bd99f32a06b78a1c88a37364b2840339c702b628afc1c981f2f0759 \u001b[38;2;255;255;255m\n",
      "\n",
      "\n",
      "Index : \u001b[38;2;0;255;0m3 \u001b[38;2;255;255;255m\n",
      "Timestamp : \u001b[38;2;0;255;0m2021-12-09 15:59:32.557125 \u001b[38;2;255;255;255m\n",
      "Data : \u001b[38;2;0;255;0misha \u001b[38;2;255;255;255m\n",
      "Previous_hash : \u001b[38;2;0;255;0m44854b5a1bd99f32a06b78a1c88a37364b2840339c702b628afc1c981f2f0759 \u001b[38;2;255;255;255m\n",
      "Hash : \u001b[38;2;0;255;0m9ceebf473db20911e79d9cf5f4b83f525008bf57ff79135baba421aa65ce5fed \u001b[38;2;255;255;255m\n",
      "\n",
      "\n",
      "Index : \u001b[38;2;0;255;0m4 \u001b[38;2;255;255;255m\n",
      "Timestamp : \u001b[38;2;0;255;0m2021-12-09 15:59:32.557165 \u001b[38;2;255;255;255m\n",
      "Data : \u001b[38;2;0;255;0mJaIshu \u001b[38;2;255;255;255m\n",
      "Previous_hash : \u001b[38;2;0;255;0m9ceebf473db20911e79d9cf5f4b83f525008bf57ff79135baba421aa65ce5fed \u001b[38;2;255;255;255m\n",
      "Hash : \u001b[38;2;0;255;0mb73f8f589eb24bb73f622f6253966d1156c39e4b58a71460430b6eee4dcdb9cc \u001b[38;2;255;255;255m\n",
      "\n",
      "\n",
      "Index : \u001b[38;2;0;255;0m5 \u001b[38;2;255;255;255m\n",
      "Timestamp : \u001b[38;2;0;255;0m2021-12-09 15:59:32.557214 \u001b[38;2;255;255;255m\n",
      "Data : \u001b[38;2;0;255;0mlee \u001b[38;2;255;255;255m\n",
      "Previous_hash : \u001b[38;2;0;255;0mb73f8f589eb24bb73f622f6253966d1156c39e4b58a71460430b6eee4dcdb9cc \u001b[38;2;255;255;255m\n",
      "Hash : \u001b[38;2;0;255;0maa3aec5cca38699f0e87bbc10e450f8ee0af960c154948441ee795a0a6c69527 \u001b[38;2;255;255;255m\n",
      "\n",
      "\n"
     ]
    }
   ],
   "source": [
    "Net.peers[2].disp_chain()"
   ]
  },
  {
   "cell_type": "code",
   "execution_count": null,
   "metadata": {},
   "outputs": [],
   "source": []
  }
 ],
 "metadata": {
  "kernelspec": {
   "display_name": "Python 3.9",
   "language": "python",
   "name": "python3.9"
  },
  "language_info": {
   "codemirror_mode": {
    "name": "ipython",
    "version": 3
   },
   "file_extension": ".py",
   "mimetype": "text/x-python",
   "name": "python",
   "nbconvert_exporter": "python",
   "pygments_lexer": "ipython3",
   "version": "3.9.2"
  }
 },
 "nbformat": 4,
 "nbformat_minor": 4
}
