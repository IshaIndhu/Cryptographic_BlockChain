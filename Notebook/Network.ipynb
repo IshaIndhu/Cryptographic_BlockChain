{
 "cells": [
  {
   "cell_type": "code",
   "execution_count": 1,
   "metadata": {},
   "outputs": [],
   "source": [
    "from MinimalChain import MinimalChain\n",
    "import hashlib\n",
    "import datetime\n",
    "import copy"
   ]
  },
  {
   "cell_type": "code",
   "execution_count": 2,
   "metadata": {},
   "outputs": [],
   "source": [
    "class BlockNetwork():\n",
    "    \n",
    "    def __init__(self): # initialize when creating a chain\n",
    "        self.peers = []\n",
    "        \n",
    "    def add_peers(self,chain):\n",
    "        self.peers.append(chain)\n",
    "    \n",
    "    def verify(self):\n",
    "        flag = True\n",
    "        l = []\n",
    "        for i in self.peers:\n",
    "            l.append(i.get_chain_size())  \n",
    "        c = max(set(l), key=l.count)\n",
    "        del l\n",
    "        for i in range(0,len(self.peers)):\n",
    "            if self.peers[i].get_chain_size() != c:\n",
    "                print(f'Peer {i} invalid network')\n",
    "                return 0\n",
    "            \n",
    "        for i in range(c):\n",
    "            hashs = []\n",
    "            for j in range(len(self.peers)):\n",
    "                hashs.append(self.peers[j].blocks[i].hash)\n",
    "                if len(set(hashs))>=2:\n",
    "                    print(f'Peer {j} invalid network')\n",
    "                    return 0\n",
    "        print(\"Verification Successful\")\n",
    "        return flag     \n",
    "        \n",
    "        def peers(self):\n",
    "            return self.peers"
   ]
  },
  {
   "cell_type": "code",
   "execution_count": 3,
   "metadata": {},
   "outputs": [],
   "source": [
    "chain = MinimalChain()\n",
    "\n",
    "chain.add_block(\"rohi\")\n",
    "chain.add_block(\"rama\")\n",
    "chain.add_block(\"isha\")\n",
    "chain.add_block(\"jaishu\")\n",
    "chain.add_block(\"lee\")\n",
    "\n",
    "chain_mod = MinimalChain()\n",
    "\n",
    "chain_mod.add_block(\"rohi\")\n",
    "chain_mod.add_block(\"rama\")\n",
    "chain_mod.add_block(\"isha\")\n",
    "chain_mod.add_block(\"JaIshu\")\n",
    "chain_mod.add_block(\"lee\")"
   ]
  },
  {
   "cell_type": "code",
   "execution_count": 4,
   "metadata": {},
   "outputs": [
    {
     "name": "stdout",
     "output_type": "stream",
     "text": [
      "Index : \u001b[38;2;0;255;0m0 \u001b[38;2;255;255;255m\n",
      "Timestamp : \u001b[38;2;0;255;0m2021-12-08 10:16:28.105556 \u001b[38;2;255;255;255m\n",
      "Data : \u001b[38;2;0;255;0mGenesis \u001b[38;2;255;255;255m\n",
      "Previous_hash : \u001b[38;2;0;255;0marbitrary \u001b[38;2;255;255;255m\n",
      "Hash : \u001b[38;2;0;255;0m2cbb9a9292fdaca8fa61b0739980e51507b79481ddab74eea738f9ce7b70d0b0 \u001b[38;2;255;255;255m\n",
      "\n",
      "\n",
      "Index : \u001b[38;2;0;255;0m1 \u001b[38;2;255;255;255m\n",
      "Timestamp : \u001b[38;2;0;255;0m2021-12-08 10:16:28.105617 \u001b[38;2;255;255;255m\n",
      "Data : \u001b[38;2;0;255;0mrohi \u001b[38;2;255;255;255m\n",
      "Previous_hash : \u001b[38;2;0;255;0m2cbb9a9292fdaca8fa61b0739980e51507b79481ddab74eea738f9ce7b70d0b0 \u001b[38;2;255;255;255m\n",
      "Hash : \u001b[38;2;0;255;0m1a7ef11836e7b2541e7d5a4b49d3ea0435331f3f65eb9a6b0b378b8847127297 \u001b[38;2;255;255;255m\n",
      "\n",
      "\n",
      "Index : \u001b[38;2;0;255;0m2 \u001b[38;2;255;255;255m\n",
      "Timestamp : \u001b[38;2;0;255;0m2021-12-08 10:16:28.105654 \u001b[38;2;255;255;255m\n",
      "Data : \u001b[38;2;0;255;0mrama \u001b[38;2;255;255;255m\n",
      "Previous_hash : \u001b[38;2;0;255;0m1a7ef11836e7b2541e7d5a4b49d3ea0435331f3f65eb9a6b0b378b8847127297 \u001b[38;2;255;255;255m\n",
      "Hash : \u001b[38;2;0;255;0m6b24a6e5d41046b9313af9018aa95ef2b2ff37a87a494a2e9c6660f3f3a7dbee \u001b[38;2;255;255;255m\n",
      "\n",
      "\n",
      "Index : \u001b[38;2;0;255;0m3 \u001b[38;2;255;255;255m\n",
      "Timestamp : \u001b[38;2;0;255;0m2021-12-08 10:16:28.105687 \u001b[38;2;255;255;255m\n",
      "Data : \u001b[38;2;0;255;0misha \u001b[38;2;255;255;255m\n",
      "Previous_hash : \u001b[38;2;0;255;0m6b24a6e5d41046b9313af9018aa95ef2b2ff37a87a494a2e9c6660f3f3a7dbee \u001b[38;2;255;255;255m\n",
      "Hash : \u001b[38;2;0;255;0mfee274afebd6ef6db02549093bc5cc94725f8b1e5458351de0c3163f24620bcd \u001b[38;2;255;255;255m\n",
      "\n",
      "\n",
      "Index : \u001b[38;2;0;255;0m4 \u001b[38;2;255;255;255m\n",
      "Timestamp : \u001b[38;2;0;255;0m2021-12-08 10:16:28.105718 \u001b[38;2;255;255;255m\n",
      "Data : \u001b[38;2;0;255;0mjaishu \u001b[38;2;255;255;255m\n",
      "Previous_hash : \u001b[38;2;0;255;0mfee274afebd6ef6db02549093bc5cc94725f8b1e5458351de0c3163f24620bcd \u001b[38;2;255;255;255m\n",
      "Hash : \u001b[38;2;0;255;0m69c200f89807e1f2f027c01fb8f08ab5f6ad2555a1441fd2a0bfda058b9a428d \u001b[38;2;255;255;255m\n",
      "\n",
      "\n",
      "Index : \u001b[38;2;0;255;0m5 \u001b[38;2;255;255;255m\n",
      "Timestamp : \u001b[38;2;0;255;0m2021-12-08 10:16:28.105749 \u001b[38;2;255;255;255m\n",
      "Data : \u001b[38;2;0;255;0mlee \u001b[38;2;255;255;255m\n",
      "Previous_hash : \u001b[38;2;0;255;0m69c200f89807e1f2f027c01fb8f08ab5f6ad2555a1441fd2a0bfda058b9a428d \u001b[38;2;255;255;255m\n",
      "Hash : \u001b[38;2;0;255;0mfabc521e92a9cac4a6bf5a0af5895426fde9d4f31ef3f8eabe64d9d92d7ad02c \u001b[38;2;255;255;255m\n",
      "\n",
      "\n"
     ]
    }
   ],
   "source": [
    "chain.disp_chain()"
   ]
  },
  {
   "cell_type": "code",
   "execution_count": 5,
   "metadata": {},
   "outputs": [],
   "source": [
    "Net = BlockNetwork()\n",
    "for _ in range(2):\n",
    "    Net.add_peers(chain.fork(head='whole'))\n",
    "\n",
    "Net.add_peers(chain_mod)\n",
    "\n",
    "for _ in range(3):\n",
    "    Net.add_peers(chain.fork(head='whole'))"
   ]
  },
  {
   "cell_type": "code",
   "execution_count": 6,
   "metadata": {},
   "outputs": [
    {
     "name": "stdout",
     "output_type": "stream",
     "text": [
      "Peer 2 invalid network\n"
     ]
    }
   ],
   "source": [
    "f = Net.verify()"
   ]
  },
  {
   "cell_type": "code",
   "execution_count": 7,
   "metadata": {},
   "outputs": [
    {
     "name": "stdout",
     "output_type": "stream",
     "text": [
      "Index : \u001b[38;2;0;255;0m0 \u001b[38;2;255;255;255m\n",
      "Timestamp : \u001b[38;2;0;255;0m2021-12-08 10:16:28.105779 \u001b[38;2;255;255;255m\n",
      "Data : \u001b[38;2;0;255;0mGenesis \u001b[38;2;255;255;255m\n",
      "Previous_hash : \u001b[38;2;0;255;0marbitrary \u001b[38;2;255;255;255m\n",
      "Hash : \u001b[38;2;0;255;0mcfb2fbde6b04356f3fd92e341a1763099beacbca579becb67dc51e581618cb2b \u001b[38;2;255;255;255m\n",
      "\n",
      "\n",
      "Index : \u001b[38;2;0;255;0m1 \u001b[38;2;255;255;255m\n",
      "Timestamp : \u001b[38;2;0;255;0m2021-12-08 10:16:28.105811 \u001b[38;2;255;255;255m\n",
      "Data : \u001b[38;2;0;255;0mrohi \u001b[38;2;255;255;255m\n",
      "Previous_hash : \u001b[38;2;0;255;0mcfb2fbde6b04356f3fd92e341a1763099beacbca579becb67dc51e581618cb2b \u001b[38;2;255;255;255m\n",
      "Hash : \u001b[38;2;0;255;0m068aa1653c47c061b0078966e0834ff6d5c84949068c145e15140d7bc8a4f668 \u001b[38;2;255;255;255m\n",
      "\n",
      "\n",
      "Index : \u001b[38;2;0;255;0m2 \u001b[38;2;255;255;255m\n",
      "Timestamp : \u001b[38;2;0;255;0m2021-12-08 10:16:28.105841 \u001b[38;2;255;255;255m\n",
      "Data : \u001b[38;2;0;255;0mrama \u001b[38;2;255;255;255m\n",
      "Previous_hash : \u001b[38;2;0;255;0m068aa1653c47c061b0078966e0834ff6d5c84949068c145e15140d7bc8a4f668 \u001b[38;2;255;255;255m\n",
      "Hash : \u001b[38;2;0;255;0m93d50b9aea7c58af329467be2632f3eac0856ed462e05551b944342b53b5c588 \u001b[38;2;255;255;255m\n",
      "\n",
      "\n",
      "Index : \u001b[38;2;0;255;0m3 \u001b[38;2;255;255;255m\n",
      "Timestamp : \u001b[38;2;0;255;0m2021-12-08 10:16:28.105871 \u001b[38;2;255;255;255m\n",
      "Data : \u001b[38;2;0;255;0misha \u001b[38;2;255;255;255m\n",
      "Previous_hash : \u001b[38;2;0;255;0m93d50b9aea7c58af329467be2632f3eac0856ed462e05551b944342b53b5c588 \u001b[38;2;255;255;255m\n",
      "Hash : \u001b[38;2;0;255;0m01a3acf9e09f57eaf0a39d672e82afe72c33d98d7a26b21280dc05b4014bfb27 \u001b[38;2;255;255;255m\n",
      "\n",
      "\n",
      "Index : \u001b[38;2;0;255;0m4 \u001b[38;2;255;255;255m\n",
      "Timestamp : \u001b[38;2;0;255;0m2021-12-08 10:16:28.105901 \u001b[38;2;255;255;255m\n",
      "Data : \u001b[38;2;0;255;0mJaIshu \u001b[38;2;255;255;255m\n",
      "Previous_hash : \u001b[38;2;0;255;0m01a3acf9e09f57eaf0a39d672e82afe72c33d98d7a26b21280dc05b4014bfb27 \u001b[38;2;255;255;255m\n",
      "Hash : \u001b[38;2;0;255;0m3aa0664faed2ce7e9d9fec3af7b9f2d016662b48583702575089a900f926c2a2 \u001b[38;2;255;255;255m\n",
      "\n",
      "\n",
      "Index : \u001b[38;2;0;255;0m5 \u001b[38;2;255;255;255m\n",
      "Timestamp : \u001b[38;2;0;255;0m2021-12-08 10:16:28.105937 \u001b[38;2;255;255;255m\n",
      "Data : \u001b[38;2;0;255;0mlee \u001b[38;2;255;255;255m\n",
      "Previous_hash : \u001b[38;2;0;255;0m3aa0664faed2ce7e9d9fec3af7b9f2d016662b48583702575089a900f926c2a2 \u001b[38;2;255;255;255m\n",
      "Hash : \u001b[38;2;0;255;0meb33c22f57e1bcdd4e8fd3b20f75441d2cb1cfbc5fecf43c1cf01ebaea991235 \u001b[38;2;255;255;255m\n",
      "\n",
      "\n"
     ]
    }
   ],
   "source": [
    "Net.peers[2].disp_chain()"
   ]
  }
 ],
 "metadata": {
  "kernelspec": {
   "display_name": "Python 3.9",
   "language": "python",
   "name": "python3.9"
  },
  "language_info": {
   "codemirror_mode": {
    "name": "ipython",
    "version": 3
   },
   "file_extension": ".py",
   "mimetype": "text/x-python",
   "name": "python",
   "nbconvert_exporter": "python",
   "pygments_lexer": "ipython3",
   "version": "3.9.2"
  }
 },
 "nbformat": 4,
 "nbformat_minor": 4
}
