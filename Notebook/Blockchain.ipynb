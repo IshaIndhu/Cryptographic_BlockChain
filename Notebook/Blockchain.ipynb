{
 "cells": [
  {
   "cell_type": "code",
   "execution_count": 1,
   "metadata": {},
   "outputs": [],
   "source": [
    "from MinimalChain import MinimalChain\n",
    "import hashlib\n",
    "import datetime\n",
    "import copy"
   ]
  },
  {
   "cell_type": "code",
   "execution_count": 2,
   "metadata": {},
   "outputs": [],
   "source": [
    "chain = MinimalChain()"
   ]
  },
  {
   "cell_type": "code",
   "execution_count": 3,
   "metadata": {},
   "outputs": [],
   "source": [
    "chain.add_block(\"rohi\")\n",
    "chain.add_block(\"rama\")\n",
    "chain.add_block(\"isha\")\n",
    "chain.add_block(\"jaishu\")\n",
    "chain.add_block(\"lee\")"
   ]
  },
  {
   "cell_type": "code",
   "execution_count": 4,
   "metadata": {},
   "outputs": [
    {
     "data": {
      "text/plain": [
       "True"
      ]
     },
     "execution_count": 4,
     "metadata": {},
     "output_type": "execute_result"
    }
   ],
   "source": [
    "chain.verify()"
   ]
  },
  {
   "cell_type": "code",
   "execution_count": 5,
   "metadata": {},
   "outputs": [
    {
     "data": {
      "text/plain": [
       "[<MinimalChain.MinimalBlock at 0x7f95397a6190>,\n",
       " <MinimalChain.MinimalBlock at 0x7f953977af40>,\n",
       " <MinimalChain.MinimalBlock at 0x7f953977af70>,\n",
       " <MinimalChain.MinimalBlock at 0x7f95397a63a0>,\n",
       " <MinimalChain.MinimalBlock at 0x7f95397a6790>,\n",
       " <MinimalChain.MinimalBlock at 0x7f95397a6670>]"
      ]
     },
     "execution_count": 5,
     "metadata": {},
     "output_type": "execute_result"
    }
   ],
   "source": [
    "chain.blocks"
   ]
  },
  {
   "cell_type": "code",
   "execution_count": 6,
   "metadata": {},
   "outputs": [
    {
     "name": "stdout",
     "output_type": "stream",
     "text": [
      "Index : \u001b[38;2;0;255;0m0 \u001b[38;2;255;255;255m\n",
      "Timestamp : \u001b[38;2;0;255;0m2021-12-08 10:17:32.292922 \u001b[38;2;255;255;255m\n",
      "Data : \u001b[38;2;0;255;0mGenesis \u001b[38;2;255;255;255m\n",
      "Previous_hash : \u001b[38;2;0;255;0marbitrary \u001b[38;2;255;255;255m\n",
      "Hash : \u001b[38;2;0;255;0m840a59b75e2a65e2ea4c150c9d40cd549e101c9aec153df77e2339935b8e0056 \u001b[38;2;255;255;255m\n",
      "\n",
      "\n",
      "Index : \u001b[38;2;0;255;0m1 \u001b[38;2;255;255;255m\n",
      "Timestamp : \u001b[38;2;0;255;0m2021-12-08 10:17:32.298863 \u001b[38;2;255;255;255m\n",
      "Data : \u001b[38;2;0;255;0mrohi \u001b[38;2;255;255;255m\n",
      "Previous_hash : \u001b[38;2;0;255;0m840a59b75e2a65e2ea4c150c9d40cd549e101c9aec153df77e2339935b8e0056 \u001b[38;2;255;255;255m\n",
      "Hash : \u001b[38;2;0;255;0m078b2d82d0dcb7ee8c83524330f7b2ed730d74d7f78cec31377e0bf49309cbb6 \u001b[38;2;255;255;255m\n",
      "\n",
      "\n",
      "Index : \u001b[38;2;0;255;0m2 \u001b[38;2;255;255;255m\n",
      "Timestamp : \u001b[38;2;0;255;0m2021-12-08 10:17:32.298913 \u001b[38;2;255;255;255m\n",
      "Data : \u001b[38;2;0;255;0mrama \u001b[38;2;255;255;255m\n",
      "Previous_hash : \u001b[38;2;0;255;0m078b2d82d0dcb7ee8c83524330f7b2ed730d74d7f78cec31377e0bf49309cbb6 \u001b[38;2;255;255;255m\n",
      "Hash : \u001b[38;2;0;255;0m628acb3763e8b64beb682a77ac8220bd25f5cf97e86b79bbe75702bbcfcc4a06 \u001b[38;2;255;255;255m\n",
      "\n",
      "\n",
      "Index : \u001b[38;2;0;255;0m3 \u001b[38;2;255;255;255m\n",
      "Timestamp : \u001b[38;2;0;255;0m2021-12-08 10:17:32.298955 \u001b[38;2;255;255;255m\n",
      "Data : \u001b[38;2;0;255;0misha \u001b[38;2;255;255;255m\n",
      "Previous_hash : \u001b[38;2;0;255;0m628acb3763e8b64beb682a77ac8220bd25f5cf97e86b79bbe75702bbcfcc4a06 \u001b[38;2;255;255;255m\n",
      "Hash : \u001b[38;2;0;255;0mfaa784c5a8f01ec0f5076fad4224ed673dd248488fed0c4170fa3f5521d7453c \u001b[38;2;255;255;255m\n",
      "\n",
      "\n",
      "Index : \u001b[38;2;0;255;0m4 \u001b[38;2;255;255;255m\n",
      "Timestamp : \u001b[38;2;0;255;0m2021-12-08 10:17:32.298990 \u001b[38;2;255;255;255m\n",
      "Data : \u001b[38;2;0;255;0mjaishu \u001b[38;2;255;255;255m\n",
      "Previous_hash : \u001b[38;2;0;255;0mfaa784c5a8f01ec0f5076fad4224ed673dd248488fed0c4170fa3f5521d7453c \u001b[38;2;255;255;255m\n",
      "Hash : \u001b[38;2;0;255;0m23e9cefd709f3ad7e81ad9c6eb5790314b7705b93b3880029c3663e0d4ec1d0c \u001b[38;2;255;255;255m\n",
      "\n",
      "\n",
      "Index : \u001b[38;2;0;255;0m5 \u001b[38;2;255;255;255m\n",
      "Timestamp : \u001b[38;2;0;255;0m2021-12-08 10:17:32.299028 \u001b[38;2;255;255;255m\n",
      "Data : \u001b[38;2;0;255;0mlee \u001b[38;2;255;255;255m\n",
      "Previous_hash : \u001b[38;2;0;255;0m23e9cefd709f3ad7e81ad9c6eb5790314b7705b93b3880029c3663e0d4ec1d0c \u001b[38;2;255;255;255m\n",
      "Hash : \u001b[38;2;0;255;0ma117fe3e81fd6e6b6b7e81bfe0877fc7ac0b3b5a154791a95f8fd6827a454be1 \u001b[38;2;255;255;255m\n",
      "\n",
      "\n"
     ]
    }
   ],
   "source": [
    "chain.disp_chain()"
   ]
  },
  {
   "cell_type": "code",
   "execution_count": 7,
   "metadata": {},
   "outputs": [],
   "source": [
    "chain.blocks[3].data = \"bum\""
   ]
  },
  {
   "cell_type": "code",
   "execution_count": 8,
   "metadata": {},
   "outputs": [
    {
     "name": "stdout",
     "output_type": "stream",
     "text": [
      "Index : \u001b[38;2;0;255;0m0 \u001b[38;2;255;255;255m\n",
      "Timestamp : \u001b[38;2;0;255;0m2021-12-08 10:17:32.292922 \u001b[38;2;255;255;255m\n",
      "Data : \u001b[38;2;0;255;0mGenesis \u001b[38;2;255;255;255m\n",
      "Previous_hash : \u001b[38;2;0;255;0marbitrary \u001b[38;2;255;255;255m\n",
      "Hash : \u001b[38;2;0;255;0m840a59b75e2a65e2ea4c150c9d40cd549e101c9aec153df77e2339935b8e0056 \u001b[38;2;255;255;255m\n",
      "\n",
      "\n",
      "Index : \u001b[38;2;0;255;0m1 \u001b[38;2;255;255;255m\n",
      "Timestamp : \u001b[38;2;0;255;0m2021-12-08 10:17:32.298863 \u001b[38;2;255;255;255m\n",
      "Data : \u001b[38;2;0;255;0mrohi \u001b[38;2;255;255;255m\n",
      "Previous_hash : \u001b[38;2;0;255;0m840a59b75e2a65e2ea4c150c9d40cd549e101c9aec153df77e2339935b8e0056 \u001b[38;2;255;255;255m\n",
      "Hash : \u001b[38;2;0;255;0m078b2d82d0dcb7ee8c83524330f7b2ed730d74d7f78cec31377e0bf49309cbb6 \u001b[38;2;255;255;255m\n",
      "\n",
      "\n",
      "Index : \u001b[38;2;0;255;0m2 \u001b[38;2;255;255;255m\n",
      "Timestamp : \u001b[38;2;0;255;0m2021-12-08 10:17:32.298913 \u001b[38;2;255;255;255m\n",
      "Data : \u001b[38;2;0;255;0mrama \u001b[38;2;255;255;255m\n",
      "Previous_hash : \u001b[38;2;0;255;0m078b2d82d0dcb7ee8c83524330f7b2ed730d74d7f78cec31377e0bf49309cbb6 \u001b[38;2;255;255;255m\n",
      "Hash : \u001b[38;2;0;255;0m628acb3763e8b64beb682a77ac8220bd25f5cf97e86b79bbe75702bbcfcc4a06 \u001b[38;2;255;255;255m\n",
      "\n",
      "\n",
      "Index : \u001b[38;2;255;0;0m3 \u001b[38;2;255;255;255m\n",
      "Timestamp : \u001b[38;2;255;0;0m2021-12-08 10:17:32.298955 \u001b[38;2;255;255;255m\n",
      "Data : \u001b[38;2;255;0;0mbum \u001b[38;2;255;255;255m\n",
      "Previous_hash : \u001b[38;2;255;0;0m628acb3763e8b64beb682a77ac8220bd25f5cf97e86b79bbe75702bbcfcc4a06 \u001b[38;2;255;255;255m\n",
      "Hash : \u001b[38;2;255;0;0mfaa784c5a8f01ec0f5076fad4224ed673dd248488fed0c4170fa3f5521d7453c \u001b[38;2;255;255;255m\n",
      "\n",
      "\n",
      "Index : \u001b[38;2;255;0;0m4 \u001b[38;2;255;255;255m\n",
      "Timestamp : \u001b[38;2;255;0;0m2021-12-08 10:17:32.298990 \u001b[38;2;255;255;255m\n",
      "Data : \u001b[38;2;255;0;0mjaishu \u001b[38;2;255;255;255m\n",
      "Previous_hash : \u001b[38;2;255;0;0mfaa784c5a8f01ec0f5076fad4224ed673dd248488fed0c4170fa3f5521d7453c \u001b[38;2;255;255;255m\n",
      "Hash : \u001b[38;2;255;0;0m23e9cefd709f3ad7e81ad9c6eb5790314b7705b93b3880029c3663e0d4ec1d0c \u001b[38;2;255;255;255m\n",
      "\n",
      "\n",
      "Index : \u001b[38;2;255;0;0m5 \u001b[38;2;255;255;255m\n",
      "Timestamp : \u001b[38;2;255;0;0m2021-12-08 10:17:32.299028 \u001b[38;2;255;255;255m\n",
      "Data : \u001b[38;2;255;0;0mlee \u001b[38;2;255;255;255m\n",
      "Previous_hash : \u001b[38;2;255;0;0m23e9cefd709f3ad7e81ad9c6eb5790314b7705b93b3880029c3663e0d4ec1d0c \u001b[38;2;255;255;255m\n",
      "Hash : \u001b[38;2;255;0;0ma117fe3e81fd6e6b6b7e81bfe0877fc7ac0b3b5a154791a95f8fd6827a454be1 \u001b[38;2;255;255;255m\n",
      "\n",
      "\n"
     ]
    }
   ],
   "source": [
    "chain.disp_chain()"
   ]
  },
  {
   "cell_type": "code",
   "execution_count": 9,
   "metadata": {},
   "outputs": [
    {
     "name": "stdout",
     "output_type": "stream",
     "text": [
      "Index : \u001b[38;2;0;255;0m0 \u001b[38;2;255;255;255m\n",
      "Timestamp : \u001b[38;2;0;255;0m2021-12-08 10:17:32.292922 \u001b[38;2;255;255;255m\n",
      "Data : \u001b[38;2;0;255;0mGenesis \u001b[38;2;255;255;255m\n",
      "Previous_hash : \u001b[38;2;0;255;0marbitrary \u001b[38;2;255;255;255m\n",
      "Hash : \u001b[38;2;0;255;0m840a59b75e2a65e2ea4c150c9d40cd549e101c9aec153df77e2339935b8e0056 \u001b[38;2;255;255;255m\n",
      "\n",
      "\n",
      "Index : \u001b[38;2;0;255;0m1 \u001b[38;2;255;255;255m\n",
      "Timestamp : \u001b[38;2;0;255;0m2021-12-08 10:17:32.298863 \u001b[38;2;255;255;255m\n",
      "Data : \u001b[38;2;0;255;0mrohi \u001b[38;2;255;255;255m\n",
      "Previous_hash : \u001b[38;2;0;255;0m840a59b75e2a65e2ea4c150c9d40cd549e101c9aec153df77e2339935b8e0056 \u001b[38;2;255;255;255m\n",
      "Hash : \u001b[38;2;0;255;0m078b2d82d0dcb7ee8c83524330f7b2ed730d74d7f78cec31377e0bf49309cbb6 \u001b[38;2;255;255;255m\n",
      "\n",
      "\n",
      "Index : \u001b[38;2;0;255;0m2 \u001b[38;2;255;255;255m\n",
      "Timestamp : \u001b[38;2;0;255;0m2021-12-08 10:17:32.298913 \u001b[38;2;255;255;255m\n",
      "Data : \u001b[38;2;0;255;0mrama \u001b[38;2;255;255;255m\n",
      "Previous_hash : \u001b[38;2;0;255;0m078b2d82d0dcb7ee8c83524330f7b2ed730d74d7f78cec31377e0bf49309cbb6 \u001b[38;2;255;255;255m\n",
      "Hash : \u001b[38;2;0;255;0m628acb3763e8b64beb682a77ac8220bd25f5cf97e86b79bbe75702bbcfcc4a06 \u001b[38;2;255;255;255m\n",
      "\n",
      "\n",
      "Index : \u001b[38;2;0;255;0m3 \u001b[38;2;255;255;255m\n",
      "Timestamp : \u001b[38;2;0;255;0m2021-12-08 10:17:32.298955 \u001b[38;2;255;255;255m\n",
      "Data : \u001b[38;2;0;255;0mbum \u001b[38;2;255;255;255m\n",
      "Previous_hash : \u001b[38;2;0;255;0m628acb3763e8b64beb682a77ac8220bd25f5cf97e86b79bbe75702bbcfcc4a06 \u001b[38;2;255;255;255m\n",
      "Hash : \u001b[38;2;0;255;0m12094bdfe2f1877a992d01a52b233ff27c227d4d3ecf478b809cc04e1f7ef6b3 \u001b[38;2;255;255;255m\n",
      "\n",
      "\n",
      "Index : \u001b[38;2;255;0;0m4 \u001b[38;2;255;255;255m\n",
      "Timestamp : \u001b[38;2;255;0;0m2021-12-08 10:17:32.298990 \u001b[38;2;255;255;255m\n",
      "Data : \u001b[38;2;255;0;0mjaishu \u001b[38;2;255;255;255m\n",
      "Previous_hash : \u001b[38;2;255;0;0mfaa784c5a8f01ec0f5076fad4224ed673dd248488fed0c4170fa3f5521d7453c \u001b[38;2;255;255;255m\n",
      "Hash : \u001b[38;2;255;0;0m23e9cefd709f3ad7e81ad9c6eb5790314b7705b93b3880029c3663e0d4ec1d0c \u001b[38;2;255;255;255m\n",
      "\n",
      "\n",
      "Index : \u001b[38;2;255;0;0m5 \u001b[38;2;255;255;255m\n",
      "Timestamp : \u001b[38;2;255;0;0m2021-12-08 10:17:32.299028 \u001b[38;2;255;255;255m\n",
      "Data : \u001b[38;2;255;0;0mlee \u001b[38;2;255;255;255m\n",
      "Previous_hash : \u001b[38;2;255;0;0m23e9cefd709f3ad7e81ad9c6eb5790314b7705b93b3880029c3663e0d4ec1d0c \u001b[38;2;255;255;255m\n",
      "Hash : \u001b[38;2;255;0;0ma117fe3e81fd6e6b6b7e81bfe0877fc7ac0b3b5a154791a95f8fd6827a454be1 \u001b[38;2;255;255;255m\n",
      "\n",
      "\n"
     ]
    }
   ],
   "source": [
    "chain.blocks[3].hash = chain.blocks[3].hashing()\n",
    "chain.disp_chain()"
   ]
  }
 ],
 "metadata": {
  "kernelspec": {
   "display_name": "Python 3.9",
   "language": "python",
   "name": "python3.9"
  },
  "language_info": {
   "codemirror_mode": {
    "name": "ipython",
    "version": 3
   },
   "file_extension": ".py",
   "mimetype": "text/x-python",
   "name": "python",
   "nbconvert_exporter": "python",
   "pygments_lexer": "ipython3",
   "version": "3.9.2"
  }
 },
 "nbformat": 4,
 "nbformat_minor": 4
}
