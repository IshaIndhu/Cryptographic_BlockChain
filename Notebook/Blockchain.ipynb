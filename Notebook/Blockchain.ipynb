{
 "cells": [
  {
   "cell_type": "code",
   "execution_count": 1,
   "metadata": {},
   "outputs": [],
   "source": [
    "import os\n",
    "os.chdir('..')\n",
    "\n",
    "from MinimalChain import MinimalChain\n",
    "import hashlib\n",
    "import datetime\n",
    "import copy"
   ]
  },
  {
   "cell_type": "code",
   "execution_count": 2,
   "metadata": {},
   "outputs": [],
   "source": [
    "chain = MinimalChain()"
   ]
  },
  {
   "cell_type": "code",
   "execution_count": 3,
   "metadata": {},
   "outputs": [],
   "source": [
    "chain.add_block(\"Rohith\")\n",
    "chain.add_block(\"Rama\")\n",
    "chain.add_block(\"Isha\")\n",
    "chain.add_block(\"Jayashree\")\n",
    "chain.add_block(\"Leepaakshi\")"
   ]
  },
  {
   "cell_type": "code",
   "execution_count": 4,
   "metadata": {},
   "outputs": [
    {
     "data": {
      "text/plain": [
       "True"
      ]
     },
     "execution_count": 4,
     "metadata": {},
     "output_type": "execute_result"
    }
   ],
   "source": [
    "chain.verify()"
   ]
  },
  {
   "cell_type": "code",
   "execution_count": 5,
   "metadata": {},
   "outputs": [
    {
     "data": {
      "text/plain": [
       "[<MinimalChain.MinimalBlock at 0x7f9b98598370>,\n",
       " <MinimalChain.MinimalBlock at 0x7f9b98598730>,\n",
       " <MinimalChain.MinimalBlock at 0x7f9b985980d0>,\n",
       " <MinimalChain.MinimalBlock at 0x7f9b98598cd0>,\n",
       " <MinimalChain.MinimalBlock at 0x7f9b98598850>,\n",
       " <MinimalChain.MinimalBlock at 0x7f9b985986d0>]"
      ]
     },
     "execution_count": 5,
     "metadata": {},
     "output_type": "execute_result"
    }
   ],
   "source": [
    "chain.blocks"
   ]
  },
  {
   "cell_type": "code",
   "execution_count": 6,
   "metadata": {},
   "outputs": [
    {
     "name": "stdout",
     "output_type": "stream",
     "text": [
      "Index : \u001b[38;2;0;255;0m0 \u001b[38;2;255;255;255m\n",
      "Timestamp : \u001b[38;2;0;255;0m2021-12-10 14:25:40.786873 \u001b[38;2;255;255;255m\n",
      "Data : \u001b[38;2;0;255;0mGenesis \u001b[38;2;255;255;255m\n",
      "Previous_hash : \u001b[38;2;0;255;0marbitrary \u001b[38;2;255;255;255m\n",
      "Hash : \u001b[38;2;0;255;0mb0f9e277e8523953fcdb85a36f1b0c55c5c05db0fbe063b6fca1b7533b2bd7a5 \u001b[38;2;255;255;255m\n",
      "\n",
      "\n",
      "Index : \u001b[38;2;0;255;0m1 \u001b[38;2;255;255;255m\n",
      "Timestamp : \u001b[38;2;0;255;0m2021-12-10 14:25:41.242199 \u001b[38;2;255;255;255m\n",
      "Data : \u001b[38;2;0;255;0mRohith \u001b[38;2;255;255;255m\n",
      "Previous_hash : \u001b[38;2;0;255;0mb0f9e277e8523953fcdb85a36f1b0c55c5c05db0fbe063b6fca1b7533b2bd7a5 \u001b[38;2;255;255;255m\n",
      "Hash : \u001b[38;2;0;255;0ma3b747521e558d9f3d9366ae29e01ad59ca611f18dd850d6e2dd387bcd5687cd \u001b[38;2;255;255;255m\n",
      "\n",
      "\n",
      "Index : \u001b[38;2;0;255;0m2 \u001b[38;2;255;255;255m\n",
      "Timestamp : \u001b[38;2;0;255;0m2021-12-10 14:25:41.242249 \u001b[38;2;255;255;255m\n",
      "Data : \u001b[38;2;0;255;0mRama \u001b[38;2;255;255;255m\n",
      "Previous_hash : \u001b[38;2;0;255;0ma3b747521e558d9f3d9366ae29e01ad59ca611f18dd850d6e2dd387bcd5687cd \u001b[38;2;255;255;255m\n",
      "Hash : \u001b[38;2;0;255;0m2fc6addd163fc44c4a0929cdcce5dbe718cb41315ad95f28231346846fda2304 \u001b[38;2;255;255;255m\n",
      "\n",
      "\n",
      "Index : \u001b[38;2;0;255;0m3 \u001b[38;2;255;255;255m\n",
      "Timestamp : \u001b[38;2;0;255;0m2021-12-10 14:25:41.242292 \u001b[38;2;255;255;255m\n",
      "Data : \u001b[38;2;0;255;0mIsha \u001b[38;2;255;255;255m\n",
      "Previous_hash : \u001b[38;2;0;255;0m2fc6addd163fc44c4a0929cdcce5dbe718cb41315ad95f28231346846fda2304 \u001b[38;2;255;255;255m\n",
      "Hash : \u001b[38;2;0;255;0m2de73c2a6d2f4618533c49b7b242de028aa9de6543ad699db8061bf2bf8a4622 \u001b[38;2;255;255;255m\n",
      "\n",
      "\n",
      "Index : \u001b[38;2;0;255;0m4 \u001b[38;2;255;255;255m\n",
      "Timestamp : \u001b[38;2;0;255;0m2021-12-10 14:25:41.242326 \u001b[38;2;255;255;255m\n",
      "Data : \u001b[38;2;0;255;0mJayashree \u001b[38;2;255;255;255m\n",
      "Previous_hash : \u001b[38;2;0;255;0m2de73c2a6d2f4618533c49b7b242de028aa9de6543ad699db8061bf2bf8a4622 \u001b[38;2;255;255;255m\n",
      "Hash : \u001b[38;2;0;255;0me958c47b7eb31410164a30823ffcafeb4dc696de7a0d536d329d3a7b222d8bcf \u001b[38;2;255;255;255m\n",
      "\n",
      "\n",
      "Index : \u001b[38;2;0;255;0m5 \u001b[38;2;255;255;255m\n",
      "Timestamp : \u001b[38;2;0;255;0m2021-12-10 14:25:41.242367 \u001b[38;2;255;255;255m\n",
      "Data : \u001b[38;2;0;255;0mLeepaakshi \u001b[38;2;255;255;255m\n",
      "Previous_hash : \u001b[38;2;0;255;0me958c47b7eb31410164a30823ffcafeb4dc696de7a0d536d329d3a7b222d8bcf \u001b[38;2;255;255;255m\n",
      "Hash : \u001b[38;2;0;255;0m35ccfd54c6b3dbd0b930929ba65c37883d6feca2518bab81dc9c11037d1d4d2b \u001b[38;2;255;255;255m\n",
      "\n",
      "\n"
     ]
    }
   ],
   "source": [
    "chain.disp_chain()"
   ]
  },
  {
   "cell_type": "code",
   "execution_count": 7,
   "metadata": {},
   "outputs": [],
   "source": [
    "chain.blocks[3].data = \"Isha Indhu S\""
   ]
  },
  {
   "cell_type": "code",
   "execution_count": 8,
   "metadata": {},
   "outputs": [
    {
     "name": "stdout",
     "output_type": "stream",
     "text": [
      "Index : \u001b[38;2;0;255;0m0 \u001b[38;2;255;255;255m\n",
      "Timestamp : \u001b[38;2;0;255;0m2021-12-10 14:25:40.786873 \u001b[38;2;255;255;255m\n",
      "Data : \u001b[38;2;0;255;0mGenesis \u001b[38;2;255;255;255m\n",
      "Previous_hash : \u001b[38;2;0;255;0marbitrary \u001b[38;2;255;255;255m\n",
      "Hash : \u001b[38;2;0;255;0mb0f9e277e8523953fcdb85a36f1b0c55c5c05db0fbe063b6fca1b7533b2bd7a5 \u001b[38;2;255;255;255m\n",
      "\n",
      "\n",
      "Index : \u001b[38;2;0;255;0m1 \u001b[38;2;255;255;255m\n",
      "Timestamp : \u001b[38;2;0;255;0m2021-12-10 14:25:41.242199 \u001b[38;2;255;255;255m\n",
      "Data : \u001b[38;2;0;255;0mRohith \u001b[38;2;255;255;255m\n",
      "Previous_hash : \u001b[38;2;0;255;0mb0f9e277e8523953fcdb85a36f1b0c55c5c05db0fbe063b6fca1b7533b2bd7a5 \u001b[38;2;255;255;255m\n",
      "Hash : \u001b[38;2;0;255;0ma3b747521e558d9f3d9366ae29e01ad59ca611f18dd850d6e2dd387bcd5687cd \u001b[38;2;255;255;255m\n",
      "\n",
      "\n",
      "Index : \u001b[38;2;0;255;0m2 \u001b[38;2;255;255;255m\n",
      "Timestamp : \u001b[38;2;0;255;0m2021-12-10 14:25:41.242249 \u001b[38;2;255;255;255m\n",
      "Data : \u001b[38;2;0;255;0mRama \u001b[38;2;255;255;255m\n",
      "Previous_hash : \u001b[38;2;0;255;0ma3b747521e558d9f3d9366ae29e01ad59ca611f18dd850d6e2dd387bcd5687cd \u001b[38;2;255;255;255m\n",
      "Hash : \u001b[38;2;0;255;0m2fc6addd163fc44c4a0929cdcce5dbe718cb41315ad95f28231346846fda2304 \u001b[38;2;255;255;255m\n",
      "\n",
      "\n",
      "Index : \u001b[38;2;255;0;0m3 \u001b[38;2;255;255;255m\n",
      "Timestamp : \u001b[38;2;255;0;0m2021-12-10 14:25:41.242292 \u001b[38;2;255;255;255m\n",
      "Data : \u001b[38;2;255;0;0mIsha Indhu S \u001b[38;2;255;255;255m\n",
      "Previous_hash : \u001b[38;2;255;0;0m2fc6addd163fc44c4a0929cdcce5dbe718cb41315ad95f28231346846fda2304 \u001b[38;2;255;255;255m\n",
      "Hash : \u001b[38;2;255;0;0m2de73c2a6d2f4618533c49b7b242de028aa9de6543ad699db8061bf2bf8a4622 \u001b[38;2;255;255;255m\n",
      "\n",
      "\n",
      "Index : \u001b[38;2;255;0;0m4 \u001b[38;2;255;255;255m\n",
      "Timestamp : \u001b[38;2;255;0;0m2021-12-10 14:25:41.242326 \u001b[38;2;255;255;255m\n",
      "Data : \u001b[38;2;255;0;0mJayashree \u001b[38;2;255;255;255m\n",
      "Previous_hash : \u001b[38;2;255;0;0m2de73c2a6d2f4618533c49b7b242de028aa9de6543ad699db8061bf2bf8a4622 \u001b[38;2;255;255;255m\n",
      "Hash : \u001b[38;2;255;0;0me958c47b7eb31410164a30823ffcafeb4dc696de7a0d536d329d3a7b222d8bcf \u001b[38;2;255;255;255m\n",
      "\n",
      "\n",
      "Index : \u001b[38;2;255;0;0m5 \u001b[38;2;255;255;255m\n",
      "Timestamp : \u001b[38;2;255;0;0m2021-12-10 14:25:41.242367 \u001b[38;2;255;255;255m\n",
      "Data : \u001b[38;2;255;0;0mLeepaakshi \u001b[38;2;255;255;255m\n",
      "Previous_hash : \u001b[38;2;255;0;0me958c47b7eb31410164a30823ffcafeb4dc696de7a0d536d329d3a7b222d8bcf \u001b[38;2;255;255;255m\n",
      "Hash : \u001b[38;2;255;0;0m35ccfd54c6b3dbd0b930929ba65c37883d6feca2518bab81dc9c11037d1d4d2b \u001b[38;2;255;255;255m\n",
      "\n",
      "\n"
     ]
    }
   ],
   "source": [
    "chain.disp_chain()"
   ]
  },
  {
   "cell_type": "code",
   "execution_count": 10,
   "metadata": {},
   "outputs": [
    {
     "name": "stdout",
     "output_type": "stream",
     "text": [
      "Index : \u001b[38;2;0;255;0m0 \u001b[38;2;255;255;255m\n",
      "Timestamp : \u001b[38;2;0;255;0m2021-12-09 15:51:04.085101 \u001b[38;2;255;255;255m\n",
      "Data : \u001b[38;2;0;255;0mGenesis \u001b[38;2;255;255;255m\n",
      "Previous_hash : \u001b[38;2;0;255;0marbitrary \u001b[38;2;255;255;255m\n",
      "Hash : \u001b[38;2;0;255;0m001a72ed204b227aa98605e300ece1667abb3a40f90abe78471fc043f7fe423f \u001b[38;2;255;255;255m\n",
      "\n",
      "\n",
      "Index : \u001b[38;2;0;255;0m1 \u001b[38;2;255;255;255m\n",
      "Timestamp : \u001b[38;2;0;255;0m2021-12-09 15:51:04.989087 \u001b[38;2;255;255;255m\n",
      "Data : \u001b[38;2;0;255;0mrohi \u001b[38;2;255;255;255m\n",
      "Previous_hash : \u001b[38;2;0;255;0m001a72ed204b227aa98605e300ece1667abb3a40f90abe78471fc043f7fe423f \u001b[38;2;255;255;255m\n",
      "Hash : \u001b[38;2;0;255;0m023de2544e80624fcd491993feb964b0abd0906bdbc226605e4b4b1bfd76549c \u001b[38;2;255;255;255m\n",
      "\n",
      "\n",
      "Index : \u001b[38;2;0;255;0m2 \u001b[38;2;255;255;255m\n",
      "Timestamp : \u001b[38;2;0;255;0m2021-12-09 15:51:04.989144 \u001b[38;2;255;255;255m\n",
      "Data : \u001b[38;2;0;255;0mrama \u001b[38;2;255;255;255m\n",
      "Previous_hash : \u001b[38;2;0;255;0m023de2544e80624fcd491993feb964b0abd0906bdbc226605e4b4b1bfd76549c \u001b[38;2;255;255;255m\n",
      "Hash : \u001b[38;2;0;255;0m57774831255b75b54e1e1acf79a597d1596a3414040c78133afae4bb48d316d5 \u001b[38;2;255;255;255m\n",
      "\n",
      "\n",
      "Index : \u001b[38;2;0;255;0m3 \u001b[38;2;255;255;255m\n",
      "Timestamp : \u001b[38;2;0;255;0m2021-12-09 15:51:04.989193 \u001b[38;2;255;255;255m\n",
      "Data : \u001b[38;2;0;255;0mbum \u001b[38;2;255;255;255m\n",
      "Previous_hash : \u001b[38;2;0;255;0m57774831255b75b54e1e1acf79a597d1596a3414040c78133afae4bb48d316d5 \u001b[38;2;255;255;255m\n",
      "Hash : \u001b[38;2;0;255;0m4a41a20935ff5922e7dff75eab98dba6359a7663cdfc24f64df596e2fa0a93f5 \u001b[38;2;255;255;255m\n",
      "\n",
      "\n",
      "Index : \u001b[38;2;255;0;0m4 \u001b[38;2;255;255;255m\n",
      "Timestamp : \u001b[38;2;255;0;0m2021-12-09 15:51:04.989231 \u001b[38;2;255;255;255m\n",
      "Data : \u001b[38;2;255;0;0mjaishu \u001b[38;2;255;255;255m\n",
      "Previous_hash : \u001b[38;2;255;0;0m894552ae27bf084c9b7b76bb922218761df940dab1da523f97ba8e8ff3a65c7d \u001b[38;2;255;255;255m\n",
      "Hash : \u001b[38;2;255;0;0m4f76356bb3e2963777a21e43be737c3b3702bc52a89c2adb2fb7df794f8c5a3d \u001b[38;2;255;255;255m\n",
      "\n",
      "\n",
      "Index : \u001b[38;2;255;0;0m5 \u001b[38;2;255;255;255m\n",
      "Timestamp : \u001b[38;2;255;0;0m2021-12-09 15:51:04.989275 \u001b[38;2;255;255;255m\n",
      "Data : \u001b[38;2;255;0;0mlee \u001b[38;2;255;255;255m\n",
      "Previous_hash : \u001b[38;2;255;0;0m4f76356bb3e2963777a21e43be737c3b3702bc52a89c2adb2fb7df794f8c5a3d \u001b[38;2;255;255;255m\n",
      "Hash : \u001b[38;2;255;0;0m48df38dc0aeaf02d84dd0376b04265f0ec2cb70da5e194d279dc57954cb2086e \u001b[38;2;255;255;255m\n",
      "\n",
      "\n"
     ]
    }
   ],
   "source": [
    "chain.blocks[3].hash = chain.blocks[3].hashing()\n",
    "chain.blocks[4].hash = chain.blocks[4].hashing()\n",
    "chain.blocks[5].hash = chain.blocks[5].hashing()\n",
    "chain.disp_chain()"
   ]
  },
  {
   "cell_type": "code",
   "execution_count": null,
   "metadata": {},
   "outputs": [],
   "source": []
  }
 ],
 "metadata": {
  "kernelspec": {
   "display_name": "Python 3.9",
   "language": "python",
   "name": "python3.9"
  },
  "language_info": {
   "codemirror_mode": {
    "name": "ipython",
    "version": 3
   },
   "file_extension": ".py",
   "mimetype": "text/x-python",
   "name": "python",
   "nbconvert_exporter": "python",
   "pygments_lexer": "ipython3",
   "version": "3.9.2"
  }
 },
 "nbformat": 4,
 "nbformat_minor": 4
}
