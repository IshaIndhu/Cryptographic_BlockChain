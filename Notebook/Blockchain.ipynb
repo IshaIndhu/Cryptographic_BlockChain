{
 "cells": [
  {
   "cell_type": "code",
   "execution_count": 9,
   "metadata": {},
   "outputs": [],
   "source": [
    "import os\n",
    "os.chdir('..')\n",
    "\n",
    "from MinimalChain import MinimalChain\n",
    "import hashlib\n",
    "import datetime\n",
    "import copy"
   ]
  },
  {
   "cell_type": "code",
   "execution_count": 10,
   "metadata": {},
   "outputs": [],
   "source": [
    "chain = MinimalChain()"
   ]
  },
  {
   "cell_type": "code",
   "execution_count": 11,
   "metadata": {},
   "outputs": [],
   "source": [
    "chain.add_block(\"rohi\")\n",
    "chain.add_block(\"rama\")\n",
    "chain.add_block(\"isha\")\n",
    "chain.add_block(\"jaishu\")\n",
    "chain.add_block(\"lee\")"
   ]
  },
  {
   "cell_type": "code",
   "execution_count": 12,
   "metadata": {},
   "outputs": [
    {
     "data": {
      "text/plain": [
       "True"
      ]
     },
     "execution_count": 12,
     "metadata": {},
     "output_type": "execute_result"
    }
   ],
   "source": [
    "chain.verify()"
   ]
  },
  {
   "cell_type": "code",
   "execution_count": 13,
   "metadata": {},
   "outputs": [
    {
     "data": {
      "text/plain": [
       "[<MinimalChain.MinimalBlock at 0x7fa05ffc6130>,\n",
       " <MinimalChain.MinimalBlock at 0x7fa05ffc6dc0>,\n",
       " <MinimalChain.MinimalBlock at 0x7fa05ffc6550>,\n",
       " <MinimalChain.MinimalBlock at 0x7fa05ffc6610>,\n",
       " <MinimalChain.MinimalBlock at 0x7fa05ffc6820>,\n",
       " <MinimalChain.MinimalBlock at 0x7fa05ffc64f0>]"
      ]
     },
     "execution_count": 13,
     "metadata": {},
     "output_type": "execute_result"
    }
   ],
   "source": [
    "chain.blocks"
   ]
  },
  {
   "cell_type": "code",
   "execution_count": 14,
   "metadata": {},
   "outputs": [
    {
     "name": "stdout",
     "output_type": "stream",
     "text": [
      "Index : \u001b[38;2;0;255;0m0 \u001b[38;2;255;255;255m\n",
      "Timestamp : \u001b[38;2;0;255;0m2021-12-08 10:37:20.926050 \u001b[38;2;255;255;255m\n",
      "Data : \u001b[38;2;0;255;0mGenesis \u001b[38;2;255;255;255m\n",
      "Previous_hash : \u001b[38;2;0;255;0marbitrary \u001b[38;2;255;255;255m\n",
      "Hash : \u001b[38;2;0;255;0m65997369f38808f8180545396fced6c83f305b15cb11480e161ceaef720bf70e \u001b[38;2;255;255;255m\n",
      "\n",
      "\n",
      "Index : \u001b[38;2;0;255;0m1 \u001b[38;2;255;255;255m\n",
      "Timestamp : \u001b[38;2;0;255;0m2021-12-08 10:37:21.307070 \u001b[38;2;255;255;255m\n",
      "Data : \u001b[38;2;0;255;0mrohi \u001b[38;2;255;255;255m\n",
      "Previous_hash : \u001b[38;2;0;255;0m65997369f38808f8180545396fced6c83f305b15cb11480e161ceaef720bf70e \u001b[38;2;255;255;255m\n",
      "Hash : \u001b[38;2;0;255;0maadda668e90dfdc3100b2a363d7b96b95d7a5797aebac197bf24e7e08b4973fb \u001b[38;2;255;255;255m\n",
      "\n",
      "\n",
      "Index : \u001b[38;2;0;255;0m2 \u001b[38;2;255;255;255m\n",
      "Timestamp : \u001b[38;2;0;255;0m2021-12-08 10:37:21.307139 \u001b[38;2;255;255;255m\n",
      "Data : \u001b[38;2;0;255;0mrama \u001b[38;2;255;255;255m\n",
      "Previous_hash : \u001b[38;2;0;255;0maadda668e90dfdc3100b2a363d7b96b95d7a5797aebac197bf24e7e08b4973fb \u001b[38;2;255;255;255m\n",
      "Hash : \u001b[38;2;0;255;0m0e364f71c1c7bcce97a54431cb2b6abb762e3a1e062c8ec04cee4dbacabd844d \u001b[38;2;255;255;255m\n",
      "\n",
      "\n",
      "Index : \u001b[38;2;0;255;0m3 \u001b[38;2;255;255;255m\n",
      "Timestamp : \u001b[38;2;0;255;0m2021-12-08 10:37:21.307197 \u001b[38;2;255;255;255m\n",
      "Data : \u001b[38;2;0;255;0misha \u001b[38;2;255;255;255m\n",
      "Previous_hash : \u001b[38;2;0;255;0m0e364f71c1c7bcce97a54431cb2b6abb762e3a1e062c8ec04cee4dbacabd844d \u001b[38;2;255;255;255m\n",
      "Hash : \u001b[38;2;0;255;0maa06f559a91410056fa168915ddd73c1ec4f77d49253682c46941bf747487056 \u001b[38;2;255;255;255m\n",
      "\n",
      "\n",
      "Index : \u001b[38;2;0;255;0m4 \u001b[38;2;255;255;255m\n",
      "Timestamp : \u001b[38;2;0;255;0m2021-12-08 10:37:21.307246 \u001b[38;2;255;255;255m\n",
      "Data : \u001b[38;2;0;255;0mjaishu \u001b[38;2;255;255;255m\n",
      "Previous_hash : \u001b[38;2;0;255;0maa06f559a91410056fa168915ddd73c1ec4f77d49253682c46941bf747487056 \u001b[38;2;255;255;255m\n",
      "Hash : \u001b[38;2;0;255;0m7a6aad4002eda460b6458eda310de07179a8377b652bac409ca343ac45515a66 \u001b[38;2;255;255;255m\n",
      "\n",
      "\n",
      "Index : \u001b[38;2;0;255;0m5 \u001b[38;2;255;255;255m\n",
      "Timestamp : \u001b[38;2;0;255;0m2021-12-08 10:37:21.307300 \u001b[38;2;255;255;255m\n",
      "Data : \u001b[38;2;0;255;0mlee \u001b[38;2;255;255;255m\n",
      "Previous_hash : \u001b[38;2;0;255;0m7a6aad4002eda460b6458eda310de07179a8377b652bac409ca343ac45515a66 \u001b[38;2;255;255;255m\n",
      "Hash : \u001b[38;2;0;255;0m0badc3297230ea000f2389c93f37cefca0556417489676e3b99e13fbf1defddf \u001b[38;2;255;255;255m\n",
      "\n",
      "\n"
     ]
    }
   ],
   "source": [
    "chain.disp_chain()"
   ]
  },
  {
   "cell_type": "code",
   "execution_count": 15,
   "metadata": {},
   "outputs": [],
   "source": [
    "chain.blocks[3].data = \"bum\""
   ]
  },
  {
   "cell_type": "code",
   "execution_count": 16,
   "metadata": {},
   "outputs": [
    {
     "name": "stdout",
     "output_type": "stream",
     "text": [
      "Index : \u001b[38;2;0;255;0m0 \u001b[38;2;255;255;255m\n",
      "Timestamp : \u001b[38;2;0;255;0m2021-12-08 10:37:20.926050 \u001b[38;2;255;255;255m\n",
      "Data : \u001b[38;2;0;255;0mGenesis \u001b[38;2;255;255;255m\n",
      "Previous_hash : \u001b[38;2;0;255;0marbitrary \u001b[38;2;255;255;255m\n",
      "Hash : \u001b[38;2;0;255;0m65997369f38808f8180545396fced6c83f305b15cb11480e161ceaef720bf70e \u001b[38;2;255;255;255m\n",
      "\n",
      "\n",
      "Index : \u001b[38;2;0;255;0m1 \u001b[38;2;255;255;255m\n",
      "Timestamp : \u001b[38;2;0;255;0m2021-12-08 10:37:21.307070 \u001b[38;2;255;255;255m\n",
      "Data : \u001b[38;2;0;255;0mrohi \u001b[38;2;255;255;255m\n",
      "Previous_hash : \u001b[38;2;0;255;0m65997369f38808f8180545396fced6c83f305b15cb11480e161ceaef720bf70e \u001b[38;2;255;255;255m\n",
      "Hash : \u001b[38;2;0;255;0maadda668e90dfdc3100b2a363d7b96b95d7a5797aebac197bf24e7e08b4973fb \u001b[38;2;255;255;255m\n",
      "\n",
      "\n",
      "Index : \u001b[38;2;0;255;0m2 \u001b[38;2;255;255;255m\n",
      "Timestamp : \u001b[38;2;0;255;0m2021-12-08 10:37:21.307139 \u001b[38;2;255;255;255m\n",
      "Data : \u001b[38;2;0;255;0mrama \u001b[38;2;255;255;255m\n",
      "Previous_hash : \u001b[38;2;0;255;0maadda668e90dfdc3100b2a363d7b96b95d7a5797aebac197bf24e7e08b4973fb \u001b[38;2;255;255;255m\n",
      "Hash : \u001b[38;2;0;255;0m0e364f71c1c7bcce97a54431cb2b6abb762e3a1e062c8ec04cee4dbacabd844d \u001b[38;2;255;255;255m\n",
      "\n",
      "\n",
      "Index : \u001b[38;2;255;0;0m3 \u001b[38;2;255;255;255m\n",
      "Timestamp : \u001b[38;2;255;0;0m2021-12-08 10:37:21.307197 \u001b[38;2;255;255;255m\n",
      "Data : \u001b[38;2;255;0;0mbum \u001b[38;2;255;255;255m\n",
      "Previous_hash : \u001b[38;2;255;0;0m0e364f71c1c7bcce97a54431cb2b6abb762e3a1e062c8ec04cee4dbacabd844d \u001b[38;2;255;255;255m\n",
      "Hash : \u001b[38;2;255;0;0maa06f559a91410056fa168915ddd73c1ec4f77d49253682c46941bf747487056 \u001b[38;2;255;255;255m\n",
      "\n",
      "\n",
      "Index : \u001b[38;2;255;0;0m4 \u001b[38;2;255;255;255m\n",
      "Timestamp : \u001b[38;2;255;0;0m2021-12-08 10:37:21.307246 \u001b[38;2;255;255;255m\n",
      "Data : \u001b[38;2;255;0;0mjaishu \u001b[38;2;255;255;255m\n",
      "Previous_hash : \u001b[38;2;255;0;0maa06f559a91410056fa168915ddd73c1ec4f77d49253682c46941bf747487056 \u001b[38;2;255;255;255m\n",
      "Hash : \u001b[38;2;255;0;0m7a6aad4002eda460b6458eda310de07179a8377b652bac409ca343ac45515a66 \u001b[38;2;255;255;255m\n",
      "\n",
      "\n",
      "Index : \u001b[38;2;255;0;0m5 \u001b[38;2;255;255;255m\n",
      "Timestamp : \u001b[38;2;255;0;0m2021-12-08 10:37:21.307300 \u001b[38;2;255;255;255m\n",
      "Data : \u001b[38;2;255;0;0mlee \u001b[38;2;255;255;255m\n",
      "Previous_hash : \u001b[38;2;255;0;0m7a6aad4002eda460b6458eda310de07179a8377b652bac409ca343ac45515a66 \u001b[38;2;255;255;255m\n",
      "Hash : \u001b[38;2;255;0;0m0badc3297230ea000f2389c93f37cefca0556417489676e3b99e13fbf1defddf \u001b[38;2;255;255;255m\n",
      "\n",
      "\n"
     ]
    }
   ],
   "source": [
    "chain.disp_chain()"
   ]
  },
  {
   "cell_type": "code",
   "execution_count": 17,
   "metadata": {},
   "outputs": [
    {
     "name": "stdout",
     "output_type": "stream",
     "text": [
      "Index : \u001b[38;2;0;255;0m0 \u001b[38;2;255;255;255m\n",
      "Timestamp : \u001b[38;2;0;255;0m2021-12-08 10:37:20.926050 \u001b[38;2;255;255;255m\n",
      "Data : \u001b[38;2;0;255;0mGenesis \u001b[38;2;255;255;255m\n",
      "Previous_hash : \u001b[38;2;0;255;0marbitrary \u001b[38;2;255;255;255m\n",
      "Hash : \u001b[38;2;0;255;0m65997369f38808f8180545396fced6c83f305b15cb11480e161ceaef720bf70e \u001b[38;2;255;255;255m\n",
      "\n",
      "\n",
      "Index : \u001b[38;2;0;255;0m1 \u001b[38;2;255;255;255m\n",
      "Timestamp : \u001b[38;2;0;255;0m2021-12-08 10:37:21.307070 \u001b[38;2;255;255;255m\n",
      "Data : \u001b[38;2;0;255;0mrohi \u001b[38;2;255;255;255m\n",
      "Previous_hash : \u001b[38;2;0;255;0m65997369f38808f8180545396fced6c83f305b15cb11480e161ceaef720bf70e \u001b[38;2;255;255;255m\n",
      "Hash : \u001b[38;2;0;255;0maadda668e90dfdc3100b2a363d7b96b95d7a5797aebac197bf24e7e08b4973fb \u001b[38;2;255;255;255m\n",
      "\n",
      "\n",
      "Index : \u001b[38;2;0;255;0m2 \u001b[38;2;255;255;255m\n",
      "Timestamp : \u001b[38;2;0;255;0m2021-12-08 10:37:21.307139 \u001b[38;2;255;255;255m\n",
      "Data : \u001b[38;2;0;255;0mrama \u001b[38;2;255;255;255m\n",
      "Previous_hash : \u001b[38;2;0;255;0maadda668e90dfdc3100b2a363d7b96b95d7a5797aebac197bf24e7e08b4973fb \u001b[38;2;255;255;255m\n",
      "Hash : \u001b[38;2;0;255;0m0e364f71c1c7bcce97a54431cb2b6abb762e3a1e062c8ec04cee4dbacabd844d \u001b[38;2;255;255;255m\n",
      "\n",
      "\n",
      "Index : \u001b[38;2;0;255;0m3 \u001b[38;2;255;255;255m\n",
      "Timestamp : \u001b[38;2;0;255;0m2021-12-08 10:37:21.307197 \u001b[38;2;255;255;255m\n",
      "Data : \u001b[38;2;0;255;0mbum \u001b[38;2;255;255;255m\n",
      "Previous_hash : \u001b[38;2;0;255;0m0e364f71c1c7bcce97a54431cb2b6abb762e3a1e062c8ec04cee4dbacabd844d \u001b[38;2;255;255;255m\n",
      "Hash : \u001b[38;2;0;255;0mbfc5108a3b92867221d0437b374db277a0f2c44b79ace27a02fad9965aa55dad \u001b[38;2;255;255;255m\n",
      "\n",
      "\n",
      "Index : \u001b[38;2;255;0;0m4 \u001b[38;2;255;255;255m\n",
      "Timestamp : \u001b[38;2;255;0;0m2021-12-08 10:37:21.307246 \u001b[38;2;255;255;255m\n",
      "Data : \u001b[38;2;255;0;0mjaishu \u001b[38;2;255;255;255m\n",
      "Previous_hash : \u001b[38;2;255;0;0maa06f559a91410056fa168915ddd73c1ec4f77d49253682c46941bf747487056 \u001b[38;2;255;255;255m\n",
      "Hash : \u001b[38;2;255;0;0m7a6aad4002eda460b6458eda310de07179a8377b652bac409ca343ac45515a66 \u001b[38;2;255;255;255m\n",
      "\n",
      "\n",
      "Index : \u001b[38;2;255;0;0m5 \u001b[38;2;255;255;255m\n",
      "Timestamp : \u001b[38;2;255;0;0m2021-12-08 10:37:21.307300 \u001b[38;2;255;255;255m\n",
      "Data : \u001b[38;2;255;0;0mlee \u001b[38;2;255;255;255m\n",
      "Previous_hash : \u001b[38;2;255;0;0m7a6aad4002eda460b6458eda310de07179a8377b652bac409ca343ac45515a66 \u001b[38;2;255;255;255m\n",
      "Hash : \u001b[38;2;255;0;0m0badc3297230ea000f2389c93f37cefca0556417489676e3b99e13fbf1defddf \u001b[38;2;255;255;255m\n",
      "\n",
      "\n"
     ]
    }
   ],
   "source": [
    "chain.blocks[3].hash = chain.blocks[3].hashing()\n",
    "chain.disp_chain()"
   ]
  }
 ],
 "metadata": {
  "kernelspec": {
   "display_name": "Python 3.9",
   "language": "python",
   "name": "python3.9"
  },
  "language_info": {
   "codemirror_mode": {
    "name": "ipython",
    "version": 3
   },
   "file_extension": ".py",
   "mimetype": "text/x-python",
   "name": "python",
   "nbconvert_exporter": "python",
   "pygments_lexer": "ipython3",
   "version": "3.9.2"
  }
 },
 "nbformat": 4,
 "nbformat_minor": 4
}
